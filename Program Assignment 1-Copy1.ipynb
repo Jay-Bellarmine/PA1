{
 "cells": [
  {
   "cell_type": "markdown",
   "id": "cea0a556",
   "metadata": {},
   "source": [
    "# Programming assignment 1\n",
    "## By Jalen Sangester\n",
    "### CS-150-02"
   ]
  },
  {
   "cell_type": "code",
   "execution_count": 10,
   "id": "37c98add",
   "metadata": {},
   "outputs": [
    {
     "name": "stdout",
     "output_type": "stream",
     "text": [
      "enter a floating number:74.7\n",
      "enter an integer:117\n"
     ]
    }
   ],
   "source": [
    "number1 = float(input('enter a floating number:'))\n",
    "number2 = int(input('enter an integer:'))\n",
    "A = number1 + number2\n",
    "B = number1 - number2\n",
    "C= number1 * number2\n",
    "D = number1 / number2"
   ]
  },
  {
   "cell_type": "code",
   "execution_count": 11,
   "id": "1e00ae31",
   "metadata": {},
   "outputs": [
    {
     "name": "stdout",
     "output_type": "stream",
     "text": [
      "the sum is 191.7\n",
      "the difference is -42.3\n",
      "the product is 8739.9\n",
      "the quotient is 0.6384615384615385\n",
      "the type for the result is <class 'float'>\n"
     ]
    }
   ],
   "source": [
    "print(\"the sum is\", A)\n",
    "print(\"the difference is\", B)\n",
    "print(\"the product is\", C)\n",
    "print(\"the quotient is\", D)\n",
    "print(\"the type for the result is\", type(C))"
   ]
  },
  {
   "cell_type": "code",
   "execution_count": null,
   "id": "920a9bf5",
   "metadata": {},
   "outputs": [],
   "source": []
  }
 ],
 "metadata": {
  "kernelspec": {
   "display_name": "Python 3",
   "language": "python",
   "name": "python3"
  },
  "language_info": {
   "codemirror_mode": {
    "name": "ipython",
    "version": 3
   },
   "file_extension": ".py",
   "mimetype": "text/x-python",
   "name": "python",
   "nbconvert_exporter": "python",
   "pygments_lexer": "ipython3",
   "version": "3.8.8"
  }
 },
 "nbformat": 4,
 "nbformat_minor": 5
}
